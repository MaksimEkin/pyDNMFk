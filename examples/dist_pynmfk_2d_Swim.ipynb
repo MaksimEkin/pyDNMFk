{
 "cells": [
  {
   "cell_type": "code",
   "execution_count": null,
   "metadata": {},
   "outputs": [],
   "source": [
    "import sys\n",
    "\n",
    "sys.path.append(\"..\")\n",
    "import pynmfk.config as config\n",
    "\n",
    "config.init(0)\n",
    "from pynmfk.pyNMFk import *\n",
    "from pynmfk.utils import *\n",
    "from pynmfk.dist_comm import *\n",
    "from scipy.io import loadmat\n"
   ]
  },
  {
   "cell_type": "code",
   "execution_count": null,
   "metadata": {},
   "outputs": [],
   "source": [
    "def dist_nmfk_2d_rand_init_swim():\n",
    "    from mpi4py import MPI\n",
    "    comm = MPI.COMM_WORLD\n",
    "\n",
    "    p_r, p_c = 2, 2\n",
    "\n",
    "    comms = MPI_comm(comm, p_r, p_c)\n",
    "    comm1 = comms.comm\n",
    "    rank = comm.rank\n",
    "    size = comm.size\n",
    "    args = parse()\n",
    "    args.size, args.rank, args.comm, args.p_r, args.p_c = size, rank, comms, p_r, p_c\n",
    "    args.row_comm, args.col_comm, args.comm1 = comms.cart_1d_row(), comms.cart_1d_column(), comm1\n",
    "    rank = comms.rank\n",
    "    args.fpath = '../data/'\n",
    "    args.fname = 'swim'\n",
    "    args.ftype = 'mat'\n",
    "    args.start_k = 14\n",
    "    args.end_k = 18\n",
    "    args.sill_thr = 0.6\n",
    "    args.itr = 5000\n",
    "    args.init = 'rand'\n",
    "    args.noise_var = 0.016\n",
    "    args.verbose = True\n",
    "    args.norm = 'kl'\n",
    "    args.method = 'mu'\n",
    "    args.precision = np.float32\n",
    "    A_ij = data_read(args).read().astype(args.precision)\n",
    "    args.results_path = '../Results/'\n",
    "    nopt = PyNMFk(A_ij, factors=None, params=args).fit()\n",
    "    assert nopt == 16\n"
   ]
  },
  {
   "cell_type": "code",
   "execution_count": null,
   "metadata": {},
   "outputs": [],
   "source": [
    "dist_nmfk_2d_rand_init_swim()"
   ]
  }
 ],
 "metadata": {
  "kernelspec": {
   "display_name": "Python 3",
   "language": "python",
   "name": "python3"
  },
  "language_info": {
   "codemirror_mode": {
    "name": "ipython",
    "version": 3
   },
   "file_extension": ".py",
   "mimetype": "text/x-python",
   "name": "python",
   "nbconvert_exporter": "python",
   "pygments_lexer": "ipython3",
   "version": "3.7.6"
  }
 },
 "nbformat": 4,
 "nbformat_minor": 4
}
