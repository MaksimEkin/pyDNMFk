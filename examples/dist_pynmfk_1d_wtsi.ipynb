{
 "cells": [
  {
   "cell_type": "code",
   "execution_count": null,
   "metadata": {},
   "outputs": [],
   "source": [
    "! mp4 "
   ]
  },
  {
   "cell_type": "code",
   "execution_count": null,
   "metadata": {},
   "outputs": [],
   "source": [
    "import sys\n",
    "\n",
    "sys.path.append(\"..\")\n",
    "import pynmfk.config as config\n",
    "\n",
    "config.init(0)\n",
    "from pynmfk.pyNMFk import *\n",
    "from pynmfk.utils import *\n",
    "from pynmfk.dist_comm import *\n",
    "from scipy.io import loadmat\n",
    "\n",
    "def dist_nmfk_1d_nnsvd_init_wtsi():\n",
    "    from mpi4py import MPI\n",
    "    comm = MPI.COMM_WORLD\n",
    "    p_r, p_c = 4, 1\n",
    "    comms = MPI_comm(comm, p_r, p_c)\n",
    "    comm1 = comms.comm\n",
    "    rank = comm.rank\n",
    "    size = comm.size\n",
    "    args = parse()\n",
    "    args.size, args.rank, args.comm, args.p_r, args.p_c = size, rank, comms, p_r, p_c\n",
    "    args.row_comm, args.col_comm, args.comm1 = comms.cart_1d_row(), comms.cart_1d_column(), comm1\n",
    "    rank = comms.rank\n",
    "    args.fpath = '../data/'\n",
    "    args.fname = 'wtsi'\n",
    "    args.ftype = 'mat'\n",
    "    args.start_k = 2\n",
    "    args.end_k = 5\n",
    "    args.sill_thr = 0.9\n",
    "    args.itr = 1000\n",
    "    args.init = 'nnsvd'\n",
    "    args.verbose = True\n",
    "    args.norm = 'fro'\n",
    "    args.method = 'hals'\n",
    "    args.precision = np.float32\n",
    "    A_ij = data_read(args).read().astype(args.precision)\n",
    "    args.results_path = '../Results/'\n",
    "    nopt = PyNMFk(A_ij, factors=None, params=args).fit()\n",
    "    assert nopt == 4\n",
    "\n",
    "\n",
    "test_dist_nmfk_1d_nnsvd_init_wtsi()"
   ]
  },
  {
   "cell_type": "code",
   "execution_count": null,
   "metadata": {},
   "outputs": [],
   "source": []
  }
 ],
 "metadata": {
  "kernelspec": {
   "display_name": "Python 3",
   "language": "python",
   "name": "python3"
  },
  "language_info": {
   "codemirror_mode": {
    "name": "ipython",
    "version": 3
   },
   "file_extension": ".py",
   "mimetype": "text/x-python",
   "name": "python",
   "nbconvert_exporter": "python",
   "pygments_lexer": "ipython3",
   "version": "3.7.6"
  }
 },
 "nbformat": 4,
 "nbformat_minor": 4
}
